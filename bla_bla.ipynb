{
 "cells": [
  {
   "cell_type": "code",
   "execution_count": 84,
   "metadata": {},
   "outputs": [],
   "source": [
    "# !pip install pandas pyxlsb openpyxl"
   ]
  },
  {
   "cell_type": "code",
   "execution_count": 85,
   "metadata": {},
   "outputs": [],
   "source": [
    "import pandas as pd"
   ]
  },
  {
   "cell_type": "code",
   "execution_count": null,
   "metadata": {},
   "outputs": [],
   "source": [
    "FILE_NAME = \"abc\"\n",
    "SHEET_NAME = \"def\""
   ]
  },
  {
   "cell_type": "code",
   "execution_count": 87,
   "metadata": {},
   "outputs": [],
   "source": [
    "OUTPUT_FILE_NAME = \"result.xlsx\""
   ]
  },
  {
   "cell_type": "code",
   "execution_count": null,
   "metadata": {},
   "outputs": [],
   "source": [
    "df = pd.read_excel(\n",
    "    FILE_NAME,\n",
    "    sheet_name=SHEET_NAME,\n",
    "    engine=\"pyxlsb\",\n",
    "    usecols=\"B:R\",\n",
    "    skiprows=6,\n",
    "    nrows=7470,\n",
    ")"
   ]
  },
  {
   "cell_type": "code",
   "execution_count": null,
   "metadata": {},
   "outputs": [],
   "source": [
    "rows_with_total_sorted = df[\n",
    "    df.apply(\n",
    "        lambda row: row.astype(str).str.contains(\"total\", case=False).any(), axis=1\n",
    "    )\n",
    "].sort_values(by=\"Grand Total\", ascending=False)"
   ]
  },
  {
   "cell_type": "code",
   "execution_count": 91,
   "metadata": {},
   "outputs": [
    {
     "name": "stderr",
     "output_type": "stream",
     "text": [
      "C:\\Users\\lyduc\\AppData\\Local\\Temp\\ipykernel_31236\\3978194237.py:31: FutureWarning: The behavior of DataFrame concatenation with empty or all-NA entries is deprecated. In a future version, this will no longer exclude empty or all-NA columns when determining the result dtypes. To retain the old behavior, exclude the relevant entries before the concat operation.\n",
      "  result = pd.concat([result, pd.DataFrame([row])], ignore_index=True)\n"
     ]
    }
   ],
   "source": [
    "result = pd.DataFrame(columns=rows_with_total_sorted.columns)\n",
    "\n",
    "for index, row in rows_with_total_sorted.iterrows():\n",
    "    # Extract the <a_number> from the 'cust_nbr' column in df2\n",
    "    cust_nbr = str(row[\"cust_nbr\"]).split()[0]\n",
    "\n",
    "    # Find matching rows in df1\n",
    "    matching_rows = df[\n",
    "        (df[\"cust_nbr\"].astype(str).str.split().str[0] == cust_nbr) & \n",
    "        (~df[\"cust_nbr\"].astype(str).str.contains(\"total\", case=False))\n",
    "    ]\n",
    "    \n",
    "    to_concat_rows = []\n",
    "    \n",
    "    for sub_index, sub_row in matching_rows.iterrows():\n",
    "        # Append the matching row to the result\n",
    "        to_concat_rows.append(sub_row)\n",
    "        \n",
    "        # Check if there's a next row and modify the \"cust_nbr\" to empty string\n",
    "        if sub_index + 1 < len(df):  # Ensure there's a next row\n",
    "            next_row = df.iloc[sub_index + 1].copy()  # Get the next row\n",
    "            if pd.isna(next_row.iloc[0]):\n",
    "                to_concat_rows.append(next_row)  # Append the modified next row\n",
    "\n",
    "    to_concat_df = pd.DataFrame(to_concat_rows, columns=rows_with_total_sorted.columns)\n",
    "\n",
    "    # Append matching rows from df1 to the result\n",
    "    result = pd.concat([result, to_concat_df], ignore_index=True)\n",
    "\n",
    "    # Append the current row from df2\n",
    "    result = pd.concat([result, pd.DataFrame([row])], ignore_index=True)"
   ]
  },
  {
   "cell_type": "code",
   "execution_count": 93,
   "metadata": {},
   "outputs": [],
   "source": [
    "result.to_excel(OUTPUT_FILE_NAME, index=False)"
   ]
  }
 ],
 "metadata": {
  "kernelspec": {
   "display_name": "Python 3",
   "language": "python",
   "name": "python3"
  },
  "language_info": {
   "codemirror_mode": {
    "name": "ipython",
    "version": 3
   },
   "file_extension": ".py",
   "mimetype": "text/x-python",
   "name": "python",
   "nbconvert_exporter": "python",
   "pygments_lexer": "ipython3",
   "version": "3.12.7"
  }
 },
 "nbformat": 4,
 "nbformat_minor": 2
}
